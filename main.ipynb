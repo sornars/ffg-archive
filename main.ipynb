{
 "cells": [
  {
   "cell_type": "code",
   "execution_count": 1,
   "metadata": {},
   "outputs": [],
   "source": [
    "import json\n",
    "import os\n",
    "import re\n",
    "import urllib\n",
    "\n",
    "import lxml.html\n",
    "import requests"
   ]
  },
  {
   "cell_type": "code",
   "execution_count": 2,
   "metadata": {},
   "outputs": [],
   "source": [
    "BASE_URL = 'https://www.fantasyflightgames.com'"
   ]
  },
  {
   "cell_type": "code",
   "execution_count": 3,
   "metadata": {},
   "outputs": [
    {
     "name": "stdout",
     "output_type": "stream",
     "text": [
      "Downloading: a-game-of-thrones-the-board-game-second-edition - agotbg_faq_v2_forweb.pdf\n"
     ]
    },
    {
     "name": "stdout",
     "output_type": "stream",
     "text": [
      "Downloading: a-game-of-thrones-the-card-game-second-edition - agot_lcg_faq_21.pdf\n"
     ]
    },
    {
     "name": "stdout",
     "output_type": "stream",
     "text": [
      "Downloading: a-game-of-thrones-the-card-game-second-edition - gt_melee_format_regulations_v10.pdf\n"
     ]
    },
    {
     "name": "stdout",
     "output_type": "stream",
     "text": [
      "Downloading: arkham-horror-third-edition - arkham_horror_faq.pdf\n"
     ]
    },
    {
     "name": "stdout",
     "output_type": "stream",
     "text": [
      "Downloading: arkham-horror-the-card-game - return_to_the_dunwich_legacy_rules.pdf\n"
     ]
    },
    {
     "name": "stdout",
     "output_type": "stream",
     "text": [
      "Downloading: arkham-horror-the-card-game - guardians_of_the_abyss_rules.pdf\n"
     ]
    },
    {
     "name": "stdout",
     "output_type": "stream",
     "text": [
      "Downloading: arkham-horror-the-card-game - the_circle_undone_campaign_guide_the_secret_name_release-compressed.pdf\n"
     ]
    },
    {
     "name": "stdout",
     "output_type": "stream",
     "text": [
      "Downloading: arkham-horror-the-card-game - ahc_decklists_v5.pdf\n"
     ]
    },
    {
     "name": "stdout",
     "output_type": "stream",
     "text": [
      "Downloading: arkham-horror-the-card-game - ahc29_campaign_log.pdf\n"
     ]
    },
    {
     "name": "stdout",
     "output_type": "stream",
     "text": [
      "Downloading: discover-lands-unknown - discover_co-op_rules.pdf\n"
     ]
    },
    {
     "name": "stdout",
     "output_type": "stream",
     "text": [
      "Downloading: genesys - gns04_character_sheet_printer_friendly.pdf\n"
     ]
    },
    {
     "name": "stdout",
     "output_type": "stream",
     "text": [
      "Downloading: genesys - gns04_vehicle_sheet_printer_friendly.pdf\nDownloading: genesys - shadow_of_the_beanstalk_premade_characters-compressed.pdf\n"
     ]
    },
    {
     "name": "stdout",
     "output_type": "stream",
     "text": [
      "Downloading: genesys - night_on_the_town_adventure.pdf\n"
     ]
    },
    {
     "name": "stdout",
     "output_type": "stream",
     "text": [
      "Downloading: keyforge - keyforge_rulebook_v8-compressed.pdf\n"
     ]
    },
    {
     "name": "stdout",
     "output_type": "stream",
     "text": [
      "Downloading: keyforge - g19k1_digitalsignup_ffg.pdf\n"
     ]
    },
    {
     "name": "stdout",
     "output_type": "stream",
     "text": [
      "Downloading: legend-of-the-five-rings-fiction - like_seeds_on_the_wind_lo-rez.pdf\n"
     ]
    },
    {
     "name": "stdout",
     "output_type": "stream",
     "text": [
      "Downloading: legend-of-the-five-rings-fiction - children_of_the_empire_1_final.pdf\n"
     ]
    },
    {
     "name": "stdout",
     "output_type": "stream",
     "text": [
      "Downloading: legend-of-the-five-rings-fiction - children_of_the_empire_2_final.pdf\n"
     ]
    },
    {
     "name": "stdout",
     "output_type": "stream",
     "text": [
      "Downloading: legend-of-the-five-rings-fiction - children_of_the_empire_3_lo-rez.pdf\n"
     ]
    },
    {
     "name": "stdout",
     "output_type": "stream",
     "text": [
      "Downloading: legend-of-the-five-rings-roleplaying-game - l5r_weddingatkyotei_webquality.pdf\n"
     ]
    },
    {
     "name": "stdout",
     "output_type": "stream",
     "text": [
      "Downloading: legend-of-the-five-rings-roleplaying-game - l5r_kyotei_pc_sheets_webquality.pdf\n"
     ]
    },
    {
     "name": "stdout",
     "output_type": "stream",
     "text": [
      "Downloading: legend-of-the-five-rings-roleplaying-game - l5r_kyotei_handouts_webquality.pdf\n"
     ]
    },
    {
     "name": "stdout",
     "output_type": "stream",
     "text": [
      "Downloading: legend-of-the-five-rings-roleplaying-game - l5r07_the_knotted_tails_mask_of_the_oni_dlc_optimized.pdf\n"
     ]
    },
    {
     "name": "stdout",
     "output_type": "stream",
     "text": [
      "Downloading: legend-of-the-five-rings-roleplaying-game - the_game_of_twenty_questions_v2.pdf\n"
     ]
    },
    {
     "name": "stdout",
     "output_type": "stream",
     "text": [
      "Downloading: legend-of-the-five-rings-roleplaying-game - campaign_tracking_sheet_v2.pdf\n"
     ]
    },
    {
     "name": "stdout",
     "output_type": "stream",
     "text": [
      "Downloading: legend-of-the-five-rings-roleplaying-game - expanded_character_sheet_v2.pdf\n"
     ]
    },
    {
     "name": "stdout",
     "output_type": "stream",
     "text": [
      "Downloading: legend-of-the-five-rings-the-card-game - like_seeds_on_the_wind_lo-rez.pdf\n"
     ]
    },
    {
     "name": "stdout",
     "output_type": "stream",
     "text": [
      "Downloading: legend-of-the-five-rings-the-card-game - children_of_the_empire_1_final.pdf\n"
     ]
    },
    {
     "name": "stdout",
     "output_type": "stream",
     "text": [
      "Downloading: legend-of-the-five-rings-the-card-game - children_of_the_empire_2_final.pdf\n"
     ]
    },
    {
     "name": "stdout",
     "output_type": "stream",
     "text": [
      "Downloading: legend-of-the-five-rings-the-card-game - children_of_the_empire_3_lo-rez.pdf\n"
     ]
    },
    {
     "name": "stdout",
     "output_type": "stream",
     "text": [
      "Downloading: legend-of-the-five-rings-the-card-game - l5c01-online_rulesreference_v20-compressed.pdf\n"
     ]
    },
    {
     "name": "stdout",
     "output_type": "stream",
     "text": [
      "Downloading: runebound - rb01_runebound_faq_11.pdf\n"
     ]
    },
    {
     "name": "stdout",
     "output_type": "stream",
     "text": [
      "Downloading: star-wars-age-of-rebellion - swap01operationshadowpointwq.pdf\n"
     ]
    },
    {
     "name": "stdout",
     "output_type": "stream",
     "text": [
      "Downloading: star-wars-age-of-rebellion - swap01_operation_shadowpoint_hq.pdf\n"
     ]
    },
    {
     "name": "stdout",
     "output_type": "stream",
     "text": [
      "Downloading: star-wars-age-of-rebellion - swa01_arkhan_character_folio_hq.pdf\n"
     ]
    },
    {
     "name": "stdout",
     "output_type": "stream",
     "text": [
      "Downloading: star-wars-age-of-rebellion - swa01-folio-tendaar.pdf\n"
     ]
    },
    {
     "name": "stdout",
     "output_type": "stream",
     "text": [
      "Downloading: star-wars-age-of-rebellion - swa01_jin-rio_character_folio_wq.pdf\n"
     ]
    },
    {
     "name": "stdout",
     "output_type": "stream",
     "text": [
      "Downloading: star-wars-age-of-rebellion - swa01jin-riocharacterfoliohq.pdf\n"
     ]
    },
    {
     "name": "stdout",
     "output_type": "stream",
     "text": [
      "Downloading: star-wars-age-of-rebellion - swa01_arkhan_character_folio_wq.pdf\n"
     ]
    },
    {
     "name": "stdout",
     "output_type": "stream",
     "text": [
      "Downloading: star-wars-armada - swm_sector_fleet_rules_eng.pdf\n"
     ]
    },
    {
     "name": "stdout",
     "output_type": "stream",
     "text": [
      "Downloading: star-wars-edge-of-the-empire - swe01_faq_lr.pdf\n"
     ]
    },
    {
     "name": "stdout",
     "output_type": "stream",
     "text": [
      "Downloading: star-wars-edge-of-the-empire - beg_game_character_sheet_blank_hr.pdf\n"
     ]
    },
    {
     "name": "stdout",
     "output_type": "stream",
     "text": [
      "Downloading: star-wars-edge-of-the-empire - long_arm_of_the_hutt_hr.pdf\n"
     ]
    },
    {
     "name": "stdout",
     "output_type": "stream",
     "text": [
      "Downloading: star-wars-edge-of-the-empire - long_arm_of_the_hutt_lr.pdf\n"
     ]
    },
    {
     "name": "stdout",
     "output_type": "stream",
     "text": [
      "Downloading: star-wars-edge-of-the-empire - character_folio_sasha_hr.pdf\n"
     ]
    },
    {
     "name": "stdout",
     "output_type": "stream",
     "text": [
      "Downloading: star-wars-edge-of-the-empire - character_folio_sasha_lr.pdf\n"
     ]
    },
    {
     "name": "stdout",
     "output_type": "stream",
     "text": [
      "Downloading: star-wars-edge-of-the-empire - character_folio_mathus_hr.pdf\n"
     ]
    },
    {
     "name": "stdout",
     "output_type": "stream",
     "text": [
      "Downloading: star-wars-edge-of-the-empire - character_folio_mathus_lr.pdf\n"
     ]
    },
    {
     "name": "stdout",
     "output_type": "stream",
     "text": [
      "Downloading: star-wars-force-and-destiny - swfp01_lure_of_the_lost_lr.pdf\n"
     ]
    },
    {
     "name": "stdout",
     "output_type": "stream",
     "text": [
      "Downloading: star-wars-force-and-destiny - swfp01_character_folio_ponedestus_lr.pdf\n"
     ]
    },
    {
     "name": "stdout",
     "output_type": "stream",
     "text": [
      "Downloading: star-wars-force-and-destiny - swfp01_character_folio_belandifeearr_lr.pdf\n"
     ]
    },
    {
     "name": "stdout",
     "output_type": "stream",
     "text": [
      "Downloading: star-wars-imperial-assault - swi_tournament_regulations_v34_text_version.pdf\n"
     ]
    },
    {
     "name": "stdout",
     "output_type": "stream",
     "text": [
      "Downloading: star-wars-imperial-assault - swi_tournament_regulations_v34.pdf\n"
     ]
    },
    {
     "name": "stdout",
     "output_type": "stream",
     "text": [
      "Downloading: star-wars-legion - swl_rules_reference_130_eng-compressed.pdf\n"
     ]
    },
    {
     "name": "stdout",
     "output_type": "stream",
     "text": [
      "Downloading: star-wars-rebellion - sw03_faq_v2_0.pdf\n"
     ]
    },
    {
     "name": "stdout",
     "output_type": "stream",
     "text": [
      "Downloading: the-lord-of-the-rings-the-card-game - mec60_web_the_dungeons_of_cirith-rules.pdf\n"
     ]
    },
    {
     "name": "stdout",
     "output_type": "stream",
     "text": [
      "Downloading: the-lord-of-the-rings-the-card-game - mec57_web_race_across_harad-rules.pdf\n"
     ]
    },
    {
     "name": "stdout",
     "output_type": "stream",
     "text": [
      "Downloading: the-lord-of-the-rings-the-card-game - mec59_web_the_black_serpent-rules.pdf\n"
     ]
    },
    {
     "name": "stdout",
     "output_type": "stream",
     "text": [
      "Downloading: the-lord-of-the-rings-the-card-game - mec61_web_the_crossing_of_poros-rules.pdf\n"
     ]
    },
    {
     "name": "stdout",
     "output_type": "stream",
     "text": [
      "Downloading: the-lord-of-the-rings-the-card-game - mec65_web_the-wilds-of_rhovanion_rules.pdf\n"
     ]
    },
    {
     "name": "stdout",
     "output_type": "stream",
     "text": [
      "Downloading: the-lord-of-the-rings-the-card-game - mec66_the_withered_heath_rules-insert-compressed.pdf\n"
     ]
    },
    {
     "name": "stdout",
     "output_type": "stream",
     "text": [
      "Downloading: the-lord-of-the-rings-the-card-game - mec67_roam_across_rhovanion_rules-insert-compressed.pdf\n"
     ]
    },
    {
     "name": "stdout",
     "output_type": "stream",
     "text": [
      "Downloading: the-lord-of-the-rings-the-card-game - mec68_web_fire_in_the_night_rules.pdf\n"
     ]
    },
    {
     "name": "stdout",
     "output_type": "stream",
     "text": [
      "Downloading: the-lord-of-the-rings-the-card-game - mec69_web_the_ghost_of_framsburg_rules.pdf\n"
     ]
    },
    {
     "name": "stdout",
     "output_type": "stream",
     "text": [
      "Downloading: x-wing-second-edition - wave2_quick-build-resistance.pdf\n"
     ]
    },
    {
     "name": "stdout",
     "output_type": "stream",
     "text": [
      "Downloading: x-wing-second-edition - wave2_quick-build-firstorder.pdf\n"
     ]
    },
    {
     "name": "stdout",
     "output_type": "stream",
     "text": [
      "Downloading: x-wing-second-edition - wave2_quick-build-rebel.pdf\n"
     ]
    },
    {
     "name": "stdout",
     "output_type": "stream",
     "text": [
      "Downloading: x-wing-second-edition - wave2_quick-build-empire.pdf\n"
     ]
    },
    {
     "name": "stdout",
     "output_type": "stream",
     "text": [
      "Downloading: x-wing-second-edition - wave2_quick-build-scum.pdf\n"
     ]
    },
    {
     "name": "stdout",
     "output_type": "stream",
     "text": [
      "Downloading: x-wing-second-edition - onlinepoints_rebelalliance_wave3.pdf\n"
     ]
    },
    {
     "name": "stdout",
     "output_type": "stream",
     "text": [
      "Downloading: x-wing-second-edition - onlinepoints_galacticempire_wave3.pdf\nDownloading: x-wing-second-edition - onlinepoints_scumandvillainy_wave3.pdf\n"
     ]
    },
    {
     "name": "stdout",
     "output_type": "stream",
     "text": [
      "Downloading: x-wing-second-edition - onlinepoints_genericupgrades_wave3.pdf\n"
     ]
    },
    {
     "name": "stdout",
     "output_type": "stream",
     "text": [
      "Downloading: x-wing-second-edition - onlinepoints_republic.pdf\n"
     ]
    },
    {
     "name": "stdout",
     "output_type": "stream",
     "text": [
      "Downloading: x-wing-second-edition - onlinepoints_separatists.pdf\n"
     ]
    },
    {
     "name": "stdout",
     "output_type": "stream",
     "text": [
      "Downloading: x-wing-second-edition - onlinepoints_firstorder_wave3.pdf\n"
     ]
    },
    {
     "name": "stdout",
     "output_type": "stream",
     "text": [
      "Downloading: x-wing-second-edition - onlinepoints_resistance_january.pdf\n"
     ]
    }
   ],
   "source": [
    "product_response = requests.get(BASE_URL + '/en/products/')\n",
    "\n",
    "games = json.loads(re.search(r'collection_data = (\\[.+\\])', product_response.text).groups()[0])\n",
    "\n",
    "for game in games:\n",
    "    game_response = requests.get(BASE_URL + game['url'])\n",
    "    root = lxml.html.fromstring(game_response.text)\n",
    "    for link in root.xpath('//a[@class=\"support-item\"]'):\n",
    "        game_name = game['url'].strip('/').split('/')[-1]\n",
    "        fname = link.attrib['href'].split('/')[-1]\n",
    "        ddir = os.path.join('data', game_name)\n",
    "        os.makedirs(ddir, exist_ok=True)\n",
    "        dfile = os.path.join(ddir, fname)\n",
    "        if not os.path.isfile(dfile):\n",
    "            print('Downloading: {} - {}'.format(game_name, fname))\n",
    "            r = requests.get(link.attrib['href'])\n",
    "            with open(dfile, 'wb') as o:\n",
    "                o.write(r.content)"
   ]
  },
  {
   "cell_type": "code",
   "execution_count": 4,
   "metadata": {},
   "outputs": [],
   "source": [
    "archive_response = requests.get(BASE_URL + '/en/more/product-document-archive/')\n",
    "root = lxml.html.fromstring(archive_response.text)\n",
    "main_content = root.xpath('//div[@id=\"minisite-content\"]')[0]"
   ]
  },
  {
   "cell_type": "code",
   "execution_count": 88,
   "metadata": {
    "collapsed": false
   },
   "outputs": [
    {
     "name": "stdout",
     "output_type": "stream",
     "text": [
      "/en/index/\n/en/news/\n/en/products/\n/en/upcoming/\nhttp://community.fantasyflightgames.com\n/en/about/\n/en/more/\n/en/basket/\n/en/more/living-card-games/\n/en/more/fantasy-flight-media-center/\n/en/more/fantasy-flight-games-professional/\n/en/more/print-on-demand/\n/en/op/\n/en/more/fantasy-flight-games-center/\n/en/more/product-document-archive/\n/en/more/events/\n/en/more/flight-crew/\n/en/more/playtesting/\n/en/more/freelance-opportunities/\n/en/more/\n/en/index/\n/en/basket/\n/en/news/\n/en/products/\n/en/upcoming/\nhttp://community.fantasyflightgames.com\n/en/about/\n/en/more/\nhttp://new.fantasyflightgames.com/edge_news.asp?eidn=333\nhttp://store.fantasyflightgames.com/productdetails.cfm?SKU=MC01\nhttp://store.fantasyflightgames.com/productdetails.cfm?SKU=MC01\nhttp://new.fantasyflightgames.com/edge_news.asp?eidn=105\nhttp://new.fantasyflightgames.com/edge_news.asp?eidn=323\nhttp://www.facebook.com/FantasyFlightGames\nhttp://www.twitter.com/ffgames\nhttps://www.instagram.com/fantasyflightgames/\nhttps://www.youtube.com/user/FantasyFlightStudio\n/en/rss/\n/about/\n/more/customer-service/\n/more/careers/\n/more/fantasy-flight-games-professional/\n/more/contact\n/more/privacy-policy/\n/more/terms-of-use/\n/more/legal-information/\n/en/pre-order-faq/\n"
     ]
    }
   ],
   "source": [
    "for a in main_content.xpath('//a'):\n",
    "    if a.attrib.has_key('href'):\n",
    "        dfile = None\n",
    "        if 'ffg_content' in a.attrib['href'] or '.pdf' in a.attrib['href']:\n",
    "            game_name = 'unknown'\n",
    "            if 'ffg_content' in a.attrib['href']:\n",
    "                game_name = urllib.parse.unquote(a.attrib['href'].split('/ffg_content/')[1].split('/')[0]).replace(' ', '_').lower()\n",
    "            fname = urllib.parse.unquote(a.attrib['href'].split('/')[-1]).replace(' ', '_')\n",
    "            ddir = os.path.join('data', 'archive', game_name)\n",
    "            os.makedirs(ddir, exist_ok=True)\n",
    "            dfile = os.path.join(ddir, fname)\n",
    "            if dfile and not os.path.isfile(dfile):\n",
    "                print('Downloading: {} - {}'.format(game_name, fname))\n",
    "                r = requests.get(a.attrib['href'])\n",
    "                with open(dfile, 'wb') as o:\n",
    "                    o.write(r.content)\n",
    "        else:\n",
    "            print(a.attrib['href'])"
   ]
  }
 ],
 "metadata": {
  "anaconda-cloud": {},
  "kernelspec": {
   "display_name": "Python 3",
   "language": "python",
   "name": "python3"
  },
  "language_info": {
   "codemirror_mode": {
    "name": "ipython",
    "version": 3
   },
   "file_extension": ".py",
   "mimetype": "text/x-python",
   "name": "python",
   "nbconvert_exporter": "python",
   "pygments_lexer": "ipython3",
   "version": "3.6.4"
  }
 },
 "nbformat": 4,
 "nbformat_minor": 1
}
