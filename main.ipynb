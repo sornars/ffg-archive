{
 "cells": [
  {
   "cell_type": "code",
   "execution_count": 70,
   "metadata": {
    "collapsed": true
   },
   "outputs": [],
   "source": [
    "import json\n",
    "import os\n",
    "import re\n",
    "import urllib\n",
    "\n",
    "import lxml.html\n",
    "import requests"
   ]
  },
  {
   "cell_type": "code",
   "execution_count": 71,
   "metadata": {
    "collapsed": true
   },
   "outputs": [],
   "source": [
    "BASE_URL = 'https://www.fantasyflightgames.com'"
   ]
  },
  {
   "cell_type": "code",
   "execution_count": 72,
   "metadata": {
    "collapsed": false
   },
   "outputs": [],
   "source": [
    "product_response = requests.get(BASE_URL + '/en/products/')\n",
    "\n",
    "games = json.loads(re.search(r'collection_data = (\\[.+\\])', product_response.text).groups()[0])\n",
    "\n",
    "for game in games:\n",
    "    game_response = requests.get(BASE_URL + game['url'])\n",
    "    root = lxml.html.fromstring(game_response.text)\n",
    "    for link in root.xpath('//a[@class=\"support-item\"]'):\n",
    "        game_name = game['url'].strip('/').split('/')[-1]\n",
    "        fname = link.attrib['href'].split('/')[-1]\n",
    "        ddir = os.path.join('data', game_name)\n",
    "        os.makedirs(ddir, exist_ok=True)\n",
    "        dfile = os.path.join(ddir, fname)\n",
    "        if not os.path.isfile(dfile):\n",
    "            print('Downloading: {} - {}'.format(game_name, fname))\n",
    "            r = requests.get(link.attrib['href'])\n",
    "            with open(dfile, 'wb') as o:\n",
    "                o.write(r.content)"
   ]
  },
  {
   "cell_type": "code",
   "execution_count": 73,
   "metadata": {
    "collapsed": false
   },
   "outputs": [],
   "source": [
    "archive_response = requests.get(BASE_URL + '/en/more/product-document-archive/')\n",
    "root = lxml.html.fromstring(archive_response.text)\n",
    "main_content = root.xpath('//div[@id=\"minisite-content\"]')[0]"
   ]
  },
  {
   "cell_type": "code",
   "execution_count": 74,
   "metadata": {
    "collapsed": false
   },
   "outputs": [],
   "source": [
    "for a in main_content.xpath('//a'):\n",
    "    if a.attrib.has_key('href') and 'ffg_content' in a.attrib['href']:\n",
    "        game_name = urllib.parse.unquote(a.attrib['href'].split('/ffg_content/')[1].split('/')[0]).replace(' ', '_').lower()\n",
    "        fname = urllib.parse.unquote(a.attrib['href'].split('/')[-1]).replace(' ', '_')\n",
    "        ddir = os.path.join('data', 'archive', game_name)\n",
    "        os.makedirs(ddir, exist_ok=True)\n",
    "        dfile = os.path.join(ddir, fname)\n",
    "        if not os.path.isfile(dfile):\n",
    "            print('Downloading: {} - {}'.format(game_name, fname))\n",
    "            r = requests.get(a.attrib['href'])\n",
    "            with open(dfile, 'wb') as o:\n",
    "                o.write(r.content)"
   ]
  }
 ],
 "metadata": {
  "anaconda-cloud": {},
  "kernelspec": {
   "display_name": "Python [conda root]",
   "language": "python",
   "name": "conda-root-py"
  },
  "language_info": {
   "codemirror_mode": {
    "name": "ipython",
    "version": 3
   },
   "file_extension": ".py",
   "mimetype": "text/x-python",
   "name": "python",
   "nbconvert_exporter": "python",
   "pygments_lexer": "ipython3",
   "version": "3.5.2"
  }
 },
 "nbformat": 4,
 "nbformat_minor": 1
}
